{
 "cells": [
  {
   "cell_type": "code",
   "execution_count": 1,
   "id": "71b188cb-4e5c-466d-90e9-443afe8c1b36",
   "metadata": {},
   "outputs": [],
   "source": [
    "#Three main layer (input layer-CN/Dense layer/Convoluted layer,hidden layer-NN,output layer-FCNN)\n",
    "#Besides these need some supporting layer(Relu layer,Pooling layer-major layer,some optional layer-Batch normalization,Dropout,Upsampling we can use it instead of Pooling layer if the dataset is large enough.\n",
    "#1.input layer --CNN/Dense layer/Convoluted layer(passing feature in the layer)\n",
    "#i.Relu layer\n",
    "#ii.Pooling layer(we can use Batch normalization and Dropout after pooling layer if we want.)\n",
    "#we can use Upsampling instead of pooling layer if the dataset is bigger.\n",
    "#i.Batch normalization\n",
    "#ii.Dropout\n",
    "#2.Hidden layer--NN(Neural Network)\n",
    "#3.Output layer-FCNN(Fully Connected Neural Network)"
   ]
  },
  {
   "cell_type": "code",
   "execution_count": 2,
   "id": "8d6ff1d8-731a-4062-90bd-6bcd3930dccf",
   "metadata": {},
   "outputs": [],
   "source": [
    "#Required module\n",
    "#Tensorflow\n",
    "#MaxNet(Combination of Tensorflow and Pytorch)\n",
    "#Numpy\n",
    "#Pandas\n",
    "#Pillow\n",
    "#Opencv\n",
    "#Scikit learn\n",
    "#i.Plotly\n",
    "#ii.Matplotlib\n",
    "#iii.Seaborn\n",
    "#iv.D3.js(Dynamic visualization using java script)\n",
    "#NLTK(Natural Language Tools Kit)"
   ]
  },
  {
   "cell_type": "code",
   "execution_count": 3,
   "id": "38f3fe7a-1c9b-404b-94d1-d894aeca1cab",
   "metadata": {},
   "outputs": [],
   "source": [
    "import tensorflow as tf           #Section for model\n",
    "import numpy as np                #for algebric analysis\n",
    "import matplotlib.pyplot as plt   #for visualization\n",
    "import warnings\n",
    "warnings.filterwarnings('ignore')  #for avoid warnings\n",
    "%matplotlib inline                "
   ]
  },
  {
   "cell_type": "code",
   "execution_count": 4,
   "id": "dd5ff98f-6175-4750-bea7-d543ed82ab1c",
   "metadata": {},
   "outputs": [],
   "source": [
    "class NeuralNetwork:\n",
    "    def __init__(self,layers):\n",
    "        #instance variables(value initialization)\n",
    "        \n",
    "        \n",
    "    \n",
    "        #instance variables(value initialization)\n",
    "        self.layers=layers                                                         #creates layer\n",
    "        self.total_layers=len(layers)                                              #total number of layers\n",
    "        self.number_feature=layers[0]                                              #total number of feature for 0 index.(feature of feature like data of data-metadata.)\n",
    "        self.number_class=layers[-1]\n",
    "        self.w={}                                                                  #weight of per node in a layer(input time ,random weight value assigning as per feature and classes.)\n",
    "        self.b={}                                                                  #bias of per node in a layer(input time,random bias value assigning as per classes.)\n",
    "        self.dw={}                                                                 #derivatives of weights(multiplication of input and weight,output time random weight value assigning as per feature and classes)\n",
    "        self.db={}                                                                 #derivatives of bias(output time random bias value assigning as per classes)\n",
    "        #set up function\n",
    "        self.setup()\n",
    "        \n",
    "        def setup(self):\n",
    "            \n",
    "            for i in range(self.total_layers):\n",
    "                \n",
    "                self.w[i]=tf.variable(tf.random.normal(shape=(self.layers[i],self.layers[i-1])))\n",
    "                self.b[i]=tf.variable(tf.random.normal(shape=(self.layers[i],1)))\n",
    "            \n",
    "             "
   ]
  },
  {
   "cell_type": "code",
   "execution_count": 5,
   "id": "ad3c9631-ead5-4236-a5ac-bff58f65f754",
   "metadata": {},
   "outputs": [],
   "source": [
    "class NeuralNetwork(NeuralNetwork):      #inheritance\n",
    "    def forwordpass(self,A):\n",
    "        A=tf.convert_to_tensor(A,dtype=float32)     #array data for tensor\n",
    "        for i in range(1,self.total_layers):\n",
    "            Z=tf.matmul(A,tf.transpose(self.w[i]))+tf.transpose(self.b[i])  #update feature value with weight and bias\n",
    "            if i!=self.total_layers-1:\n",
    "                A=tf.nn.relu(Z)                                             #output data with activation function\n",
    "            else:\n",
    "                A=Z\n",
    "            return A                                                       #feature conclusion value for aftermath.\n",
    "                \n",
    "            \n",
    "      \n",
    "        \n",
    "    "
   ]
  },
  {
   "cell_type": "code",
   "execution_count": 7,
   "id": "989f4fec-61de-44b4-b3fc-c92218b7dc33",
   "metadata": {},
   "outputs": [],
   "source": [
    "class NeuralNetwork(NeuralNetwork):\n",
    "    def compute_loss(self,A,Y):\n",
    "        return tf.reduce_mean(tf.nn.softmax_cross_entropy_with_logits(Y,A) ) #for optimazation(fixing error after feature conclusion value with actual value)\n",
    "                              \n",
    "    def upgrade_parameters(self,lr):\n",
    "        for j in range(1,self.total_layers):\n",
    "                              \n",
    "                              \n",
    "            self.w[j].assing_sub(lr*self.dw[j])                              #update weight as per learning rate with multiplication output weight.\n",
    "            self.b[j].assing_sub(lr*self.db[j])                              #update bias as per learning rate with multiplication output bias.\n",
    "        \n",
    "                              \n",
    "                              \n",
    "                              \n",
    "    "
   ]
  },
  {
   "cell_type": "code",
   "execution_count": 8,
   "id": "cca7e39a-989d-40ca-889f-6c1790be924e",
   "metadata": {},
   "outputs": [],
   "source": [
    "class NeuralNetwork(NeuralNetwork):\n",
    "    def predict(self,x):                                                    # x is an input.  \n",
    "        A=self.forwordpass()                                                #feature value process with relu activation function.                             \n",
    "        return tf.argmax(tf.nn.softmax(A),axis=1)                           #final process with relu activation function.\n",
    "    def info(self):\n",
    "        num_params=0                                                       #count number of parameter\n",
    "        for j in range(1,self.total_layers):\n",
    "            num_params+=self.w[j].shape[0] *self.w[j].shape[1]\n",
    "            num_params+=self.b[j].shape[0]\n",
    "        print(\"Number of Feature:{}\".format(self.number_feature))\n",
    "        print(\"Total Number of Class is :{}\".format(self.number_class))\n",
    "        print(\"Hidden Layer information is: \")\n",
    "        for j in range(1,self.total_layers-1):\n",
    "            print(\"Layer:{},Units {}\".format(i,self.layers[j]))\n",
    "        print(\"Total Number of Parameters:{}\".format(num_params))\n",
    "        \n",
    "        "
   ]
  },
  {
   "cell_type": "code",
   "execution_count": 9,
   "id": "b70d4e5e-48c4-42dd-a494-f13596441d32",
   "metadata": {},
   "outputs": [],
   "source": [
    "#Training session\n",
    "class NeuralNetwork(NeuralNetwork):\n",
    "    def train(self,x_train,y_train,x_test,y_test,epochs,step_per_epochs,batch_size,lr):\n",
    "        history={'val_loss':[],\n",
    "                 'train_loss':[],\n",
    "                 'val_acc':[]}\n",
    "    "
   ]
  },
  {
   "cell_type": "code",
   "execution_count": null,
   "id": "37da81fb-f34f-4301-976e-ef5a50643bc5",
   "metadata": {},
   "outputs": [],
   "source": []
  }
 ],
 "metadata": {
  "kernelspec": {
   "display_name": "Python 3 (ipykernel)",
   "language": "python",
   "name": "python3"
  },
  "language_info": {
   "codemirror_mode": {
    "name": "ipython",
    "version": 3
   },
   "file_extension": ".py",
   "mimetype": "text/x-python",
   "name": "python",
   "nbconvert_exporter": "python",
   "pygments_lexer": "ipython3",
   "version": "3.9.12"
  }
 },
 "nbformat": 4,
 "nbformat_minor": 5
}
