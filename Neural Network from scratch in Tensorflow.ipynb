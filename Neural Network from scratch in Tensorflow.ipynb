{
 "cells": [
  {
   "cell_type": "code",
   "execution_count": 1,
   "id": "71b188cb-4e5c-466d-90e9-443afe8c1b36",
   "metadata": {},
   "outputs": [],
   "source": [
    "#Three main layer (input layer-CN/Dense layer/Convoluted layer,hidden layer-NN,output layer-FCNN)\n",
    "#Besides these need some supporting layer(Relu layer,Pooling layer-major layer,some optional layer-Batch normalization,Dropout,Upsampling we can use it instead of Pooling layer if the dataset is large enough.\n",
    "#1.input layer --CNN/Dense layer/Convoluted layer(passing feature in the layer)\n",
    "#i.Relu layer\n",
    "#ii.Pooling layer(we can use Batch normalization and Dropout after pooling layer if we want.)\n",
    "#we can use Upsampling instead of pooling layer if the dataset is bigger.\n",
    "#i.Batch normalization\n",
    "#ii.Dropout\n",
    "#2.Hidden layer--NN(Neural Network)\n",
    "#3.Output layer-FCNN(Fully Connected Neural Network)"
   ]
  },
  {
   "cell_type": "code",
   "execution_count": 2,
   "id": "8d6ff1d8-731a-4062-90bd-6bcd3930dccf",
   "metadata": {},
   "outputs": [],
   "source": [
    "#Required module\n",
    "#Tensorflow\n",
    "#MaxNet(Combination of Tensorflow and Pytorch)\n",
    "#Numpy\n",
    "#Pandas\n",
    "#Pillow\n",
    "#Opencv\n",
    "#Scikit learn\n",
    "#i.Plotly\n",
    "#ii.Matplotlib\n",
    "#iii.Seaborn\n",
    "#iv.D3.js(Dynamic visualization using java script)\n",
    "#NLTK(Natural Language Tools Kit)"
   ]
  },
  {
   "cell_type": "markdown",
   "id": "d024e7b4-10eb-4379-8e0d-4407e02bec80",
   "metadata": {},
   "source": [
    "Import Required Libraries"
   ]
  },
  {
   "cell_type": "code",
   "execution_count": 3,
   "id": "38f3fe7a-1c9b-404b-94d1-d894aeca1cab",
   "metadata": {},
   "outputs": [],
   "source": [
    "import tensorflow as tf           #Section for model\n",
    "import numpy as np                #for algebric analysis\n",
    "import matplotlib.pyplot as plt   #for visualization\n",
    "import warnings\n",
    "warnings.filterwarnings('ignore')  #for avoid warnings\n",
    "%matplotlib inline                "
   ]
  },
  {
   "cell_type": "markdown",
   "id": "1d9c989a-a9aa-4dda-9a13-000201c2d7d7",
   "metadata": {},
   "source": [
    "Initializing Weight and Bias"
   ]
  },
  {
   "cell_type": "code",
   "execution_count": 4,
   "id": "dd5ff98f-6175-4750-bea7-d543ed82ab1c",
   "metadata": {},
   "outputs": [],
   "source": [
    "class NeuralNetwork:\n",
    "    def __init__(self,layers):\n",
    "        #instance variables(value initialization)\n",
    "        \n",
    "        \n",
    "    \n",
    "        #instance variables(value initialization)\n",
    "        self.layers=layers                                                          #creates layer\n",
    "        self.total_layers=len(layers)                                              #total number of layers\n",
    "        self.number_feature=layers[0]                                              #total number of feature for 0 index.(feature of feature like data of data-metadata.)\n",
    "        self.number_class=layers[-1]\n",
    "        self.w={}                                                                  #weight of per node in a layer(input time ,random weight value assigning as per feature and classes.)\n",
    "        self.b={}                                                                  #bias of per node in a layer(input time,random bias value assigning as per classes.)\n",
    "        self.dw={}                                                                 #derivatives of weights(multiplication of input and weight,output time random weight value assigning as per feature and classes)\n",
    "        self.db={}                                                                 #derivatives of bias(output time random bias value assigning as per classes)\n",
    "        #set up function\n",
    "        self.setup()\n",
    "        \n",
    "    def setup(self):\n",
    "\n",
    "\n",
    "        for i in range(self.total_layers):\n",
    "\n",
    "            self.w[i]=tf.Variable(tf.random.normal(shape=(self.layers[i],self.layers[i-1])))\n",
    "            self.b[i]=tf.Variable(tf.random.normal(shape=(self.layers[i],1)))\n",
    "\n",
    "             "
   ]
  },
  {
   "cell_type": "markdown",
   "id": "bb11c183-285b-4174-a685-4e7d1b9958b5",
   "metadata": {},
   "source": [
    "Forward Propagation"
   ]
  },
  {
   "cell_type": "code",
   "execution_count": 5,
   "id": "ad3c9631-ead5-4236-a5ac-bff58f65f754",
   "metadata": {},
   "outputs": [],
   "source": [
    "class NeuralNetwork(NeuralNetwork):      #inheritance\n",
    "    def forwardpass(self,A):\n",
    "        A=tf.convert_to_tensor(A,dtype=tf.float32)     #array data for tensor\n",
    "        for i in range(1,self.total_layers):\n",
    "            Z=tf.matmul(A,tf.transpose(self.w[i]))+tf.transpose(self.b[i])  #update feature value with weight and bias\n",
    "            if i!=self.total_layers-1:\n",
    "                A=tf.nn.relu(Z)                                             #output data with activation function\n",
    "            else:\n",
    "                A=Z\n",
    "        return A                                                       #feature conclusion value for aftermath.\n",
    "                \n",
    "            \n",
    "      \n",
    "        \n",
    "    "
   ]
  },
  {
   "cell_type": "markdown",
   "id": "6feb882c-a06e-4330-8ae7-27f43687af9c",
   "metadata": {},
   "source": [
    "Back Propagation"
   ]
  },
  {
   "cell_type": "code",
   "execution_count": 6,
   "id": "989f4fec-61de-44b4-b3fc-c92218b7dc33",
   "metadata": {},
   "outputs": [],
   "source": [
    "class NeuralNetwork(NeuralNetwork):\n",
    "    def compute_loss(self,A,Y):\n",
    "        \n",
    "        return tf.reduce_mean(tf.nn.softmax_cross_entropy_with_logits(Y,A) ) #for optimazation(fixing error after feature conclusion value with actual value)\n",
    "                                                                             #it will return a tensor value.                    \n",
    "    def upgrade_parameters(self,lr):\n",
    "        for j in range(1,self.total_layers):\n",
    "                              \n",
    "                              \n",
    "            self.w[j].assign_sub(lr *self.dw[j])                              #update weight as per learning rate with multiplication output weight.\n",
    "            self.b[j].assign_sub(lr *self.db[j])                              #update bias as per learning rate with multiplication output bias.\n",
    "        \n",
    "                              \n",
    "                              \n",
    "                              \n",
    "    "
   ]
  },
  {
   "cell_type": "markdown",
   "id": "a10390a6-ac43-499d-8cd2-4094fb5500bc",
   "metadata": {},
   "source": [
    "Predict and Neural Network Information"
   ]
  },
  {
   "cell_type": "code",
   "execution_count": 7,
   "id": "cca7e39a-989d-40ca-889f-6c1790be924e",
   "metadata": {},
   "outputs": [],
   "source": [
    "class NeuralNetwork(NeuralNetwork):\n",
    "    def predict(self,x):                                                    # x is an input.  \n",
    "        A=self.forwardpass(x)                                                #feature value process with relu activation function.                             \n",
    "        return tf.argmax(tf.nn.softmax(A),axis=1)                           #final process with relu activation function.\n",
    "    def info(self):\n",
    "        num_params=0                                                       #count number of parameter\n",
    "        for i in range(1,self.total_layers):\n",
    "            num_params+=self.w[i].shape[0] * self.w[i].shape[1]\n",
    "            num_params+=self.b[i].shape[0]\n",
    "        print(\"Number of Feature:{}\".format(self.number_feature))\n",
    "        print(\"Total Number of Class is :{}\".format(self.number_class))\n",
    "        print(\"Hidden Layer information is: \")\n",
    "        for j in range(1,self.total_layers-1):\n",
    "            print(\"Layer:{},Units {}\".format(j,self.layers[j]))\n",
    "        print(\"Total Number of Parameters:{}\".format(num_params))\n",
    "        \n",
    "        "
   ]
  },
  {
   "cell_type": "code",
   "execution_count": 8,
   "id": "d2d95e15-c272-419e-bf8a-e7736c38b5e9",
   "metadata": {},
   "outputs": [],
   "source": [
    "class NeuralNetwork(NeuralNetwork):\n",
    "    def training_on_batch(self,x,y,lr):\n",
    "        x=tf.convert_to_tensor(x,dtype=tf.float32)\n",
    "        y=tf.convert_to_tensor(y,dtype=tf.float32)\n",
    "        \n",
    "        with tf.GradientTape(persistent=True) as tape:\n",
    "            A=self.forwardpass(x)\n",
    "            loss=self.compute_loss(A,y)\n",
    "            for key in self.w.keys():\n",
    "                self.dw[key]=tape.gradient(loss,self.w[key])\n",
    "                self.db[key]=tape.gradient(loss,self.b[key])\n",
    "                \n",
    "                \n",
    "            del tape\n",
    "            self.upgrade_parameters(lr)\n",
    "            return loss.numpy()\n",
    "            \n",
    "            \n",
    "\n",
    "        "
   ]
  },
  {
   "cell_type": "code",
   "execution_count": 9,
   "id": "b70d4e5e-48c4-42dd-a494-f13596441d32",
   "metadata": {},
   "outputs": [],
   "source": [
    "#Training session\n",
    "class NeuralNetwork(NeuralNetwork):\n",
    "    def train(self,x_train,y_train,x_test,y_test,epochs,step_per_epochs,batch_size,lr):\n",
    "        history={'val_loss':[],\n",
    "                 'train_loss':[],\n",
    "                 'val_acc':[]}      #create a dictionary\n",
    "        for e in range(0,epochs):#loop for number of epochs\n",
    "            epoch_loss_train=0.0\n",
    "        \n",
    "            print(\"Epochs {}\".format(e), end=\"|\")\n",
    "            for i in range(step_per_epochs):      #loop for step per epochs\n",
    "                x_batch=x_train[i*batch_size:(i+1)*batch_size]    #between i and i+1\n",
    "                y_batch=y_train[i*batch_size:(i+1)*batch_size]\n",
    "                batch_loss=self.training_on_batch(x_batch,y_batch,lr)  #per batch loss\n",
    "                epoch_loss_train+=batch_loss        #epoch_loss_train=epoch_loss_train+batch_loss.\n",
    "                                                    #loss for epoch not for step_per_epochs.\n",
    "                                                    #after completing for loop then this line.\n",
    "                if i%int(step_per_epochs/10)==0:    #instead of int we can use '//'\n",
    "                    print(end='.')\n",
    "            history['train_loss'].append(epoch_loss_train/step_per_epochs)\n",
    "            valA=self.forwardpass(x_test)\n",
    "            history['val_loss'].append(self.compute_loss(y_test,valA).numpy())  #in case of loss we just pass the but for value loss we have to compute.\n",
    "                                                               # ytest(actual value),valA(after forward propagation -predicted value)=(Y,A)\n",
    "                                                               #compute_loss tensor vale converted to numpy array otherwise it will not accepted.\n",
    "            valePr=self.predict(x_test)    #valePr->predicted value\n",
    "            history['val_acc'].append(np.mean(np.argmax(y_test,axis=1)==valePr.numpy()))  #argmax() -> return maximum index ,compare between ytest's maximum index with valuePr and then take the mean of that value in a numpy array.\n",
    "            print(\"Value Accuracy:\",history['val_acc'][-1])\n",
    "        #here we will get training information\n",
    "        return history\n",
    "        \n",
    "                        \n",
    "    "
   ]
  },
  {
   "cell_type": "code",
   "execution_count": 10,
   "id": "37da81fb-f34f-4301-976e-ef5a50643bc5",
   "metadata": {},
   "outputs": [],
   "source": [
    "def loadDatasets():\n",
    "    (x_train,y_train),(x_test,y_test)=tf.keras.datasets.mnist.load_data()\n",
    "    x_train=np.reshape(x_train,(x_train.shape[0],784))/255.0\n",
    "    y_train=tf.keras.utils.to_categorical(y_train)\n",
    "    x_test=np.reshape(x_test,(x_test.shape[0],784))/255.0\n",
    "    y_test=tf.keras.utils.to_categorical(y_test)\n",
    "    print(\"X Train Datasets Shape: {}\".format(x_train.shape))\n",
    "    print(\"Y Test Data{}\".format(y_test))\n",
    "    print(\"Length of Y test Datasets:{}\".format(len(y_test[0])))\n",
    "    print(\"Unique value is :{}\".format(np.unique(y_test[0])))\n",
    "    print(\"Unique value is :{}\".format(np.argmax(y_test[2])))\n",
    "    return (x_train,y_train),(x_test,y_test)\n",
    "\n",
    "def plot_random_sample(x,y,p=None):\n",
    "    indicies=np.random.choice(range(0,x.shape[0]),10)\n",
    "    y=np.argmax(y,axis=1)\n",
    "    if p is None:\n",
    "        p=y\n",
    "    plt.figure(figsize=(10,4))\n",
    "    for i ,index in enumerate(indicies):\n",
    "        plt.subplot(2,5,i+1)\n",
    "        plt.imshow(x[index].reshape((28,28)),cmap='binary')\n",
    "        plt.xticks([])\n",
    "        plt.yticks([])\n",
    "        if y[index]==p[index]:\n",
    "            col='g'\n",
    "        else:\n",
    "            col='r'\n",
    "        plt.xlabel(str(p[index]),color=col)\n",
    "    return plt\n",
    "\n",
    "                              "
   ]
  },
  {
   "cell_type": "code",
   "execution_count": 11,
   "id": "3ac96da5-5ea2-4c7d-8646-b9c8030980a9",
   "metadata": {},
   "outputs": [
    {
     "name": "stdout",
     "output_type": "stream",
     "text": [
      "X Train Datasets Shape: (60000, 784)\n",
      "Y Test Data[[0. 0. 0. ... 1. 0. 0.]\n",
      " [0. 0. 1. ... 0. 0. 0.]\n",
      " [0. 1. 0. ... 0. 0. 0.]\n",
      " ...\n",
      " [0. 0. 0. ... 0. 0. 0.]\n",
      " [0. 0. 0. ... 0. 0. 0.]\n",
      " [0. 0. 0. ... 0. 0. 0.]]\n",
      "Length of Y test Datasets:10\n",
      "Unique value is :[0. 1.]\n",
      "Unique value is :1\n"
     ]
    }
   ],
   "source": [
    "(x_train,y_train),(x_test,y_test)=loadDatasets()"
   ]
  },
  {
   "cell_type": "markdown",
   "id": "d11be973-f69d-4065-9421-b83762736d71",
   "metadata": {},
   "source": [
    "Visualization"
   ]
  },
  {
   "cell_type": "code",
   "execution_count": 12,
   "id": "4e788698-0489-40f8-ba1f-e81c14f2b027",
   "metadata": {},
   "outputs": [
    {
     "data": {
      "image/png": "[encoded data removed]",
      "text/plain": [
       "<Figure size 720x288 with 10 Axes>"
      ]
     },
     "metadata": {},
     "output_type": "display_data"
    }
   ],
   "source": [
    "#Random Sample of MNIST data\n",
    "plot_random_sample(x_train,y_train).show()"
   ]
  },
  {
   "cell_type": "code",
   "execution_count": 20,
   "id": "abf04f6f-048a-4110-89f4-db6288bf1808",
   "metadata": {},
   "outputs": [],
   "source": [
    "def plot_results(history):\n",
    "    plt.figure(figsize=(12,4))\n",
    "    epochs=len(history['val_loss'])\n",
    "    plt.subplot(1,2,1)\n",
    "    plt.plot(range(epochs),history['val_loss'],label='Val_Loss')\n",
    "    plt.plot(range(epochs),history['train_loss'],label='Train_Loss')\n",
    "    plt.xticks(list(range(epochs)))\n",
    "    plt.xlabel('Epochs')\n",
    "    plt.ylabel('Loss')\n",
    "    plt.legend()\n",
    "    \n",
    "    \n",
    "    plt.subplot(1,2 ,2)\n",
    "    plt.plot(range(epochs),history['val_acc'],label='Val_Acc')\n",
    "    plt.xticks(list(range(epochs)))\n",
    "    plt.xlabel('Epochs')\n",
    "    plt.ylabel('Accuracy')\n",
    "    plt.legend()\n",
    "    return plt"
   ]
  },
  {
   "cell_type": "code",
   "execution_count": 14,
   "id": "03ba7d05-19bf-4b7b-8193-adb3eb9cb9c9",
   "metadata": {},
   "outputs": [],
   "source": [
    "network=NeuralNetwork([784,256,256,10])"
   ]
  },
  {
   "cell_type": "code",
   "execution_count": 15,
   "id": "3975a1a8-c58a-4ee4-988b-0a6d9cad3ddd",
   "metadata": {},
   "outputs": [
    {
     "name": "stdout",
     "output_type": "stream",
     "text": [
      "Number of Feature:784\n",
      "Total Number of Class is :10\n",
      "Hidden Layer information is: \n",
      "Layer:1,Units 256\n",
      "Layer:2,Units 256\n",
      "Total Number of Parameters:269322\n"
     ]
    }
   ],
   "source": [
    "network.info()"
   ]
  },
  {
   "cell_type": "code",
   "execution_count": 16,
   "id": "f3b93bd1-918d-4598-8bde-7f221d2bae10",
   "metadata": {},
   "outputs": [],
   "source": [
    "batch_size=128\n",
    "epochs=20\n",
    "step_per_epochs=int(x_train.shape[0]/batch_size)"
   ]
  },
  {
   "cell_type": "code",
   "execution_count": 17,
   "id": "0d5b951b-d8d3-4e8b-ac2d-9c14a7673bba",
   "metadata": {},
   "outputs": [],
   "source": [
    "learning_rate=1e-3"
   ]
  },
  {
   "cell_type": "code",
   "execution_count": 18,
   "id": "836c8b63-a941-46b0-a649-b38fe1da87dc",
   "metadata": {},
   "outputs": [
    {
     "name": "stdout",
     "output_type": "stream",
     "text": [
      "Epochs 0|WARNING:tensorflow:Calling GradientTape.gradient on a persistent tape inside its context is significantly less efficient than calling it outside the context (it causes the gradient ops to be recorded on the tape, leading to increased CPU and memory usage). Only call GradientTape.gradient inside the context if you actually want to trace the gradient in order to compute higher order derivatives.\n",
      "WARNING:tensorflow:Calling GradientTape.gradient on a persistent tape inside its context is significantly less efficient than calling it outside the context (it causes the gradient ops to be recorded on the tape, leading to increased CPU and memory usage). Only call GradientTape.gradient inside the context if you actually want to trace the gradient in order to compute higher order derivatives.\n",
      "...........Value Accuracy: 0.8005\n",
      "Epochs 1|...........Value Accuracy: 0.8388\n",
      "Epochs 2|...........Value Accuracy: 0.857\n",
      "Epochs 3|...........Value Accuracy: 0.8683\n",
      "Epochs 4|...........Value Accuracy: 0.8751\n",
      "Epochs 5|...........Value Accuracy: 0.8812\n",
      "Epochs 6|...........Value Accuracy: 0.8863\n",
      "Epochs 7|...........Value Accuracy: 0.8885\n",
      "Epochs 8|...........Value Accuracy: 0.8903\n",
      "Epochs 9|...........Value Accuracy: 0.8941\n",
      "Epochs 10|...........Value Accuracy: 0.897\n",
      "Epochs 11|...........Value Accuracy: 0.8992\n",
      "Epochs 12|...........Value Accuracy: 0.9021\n",
      "Epochs 13|...........Value Accuracy: 0.9036\n",
      "Epochs 14|...........Value Accuracy: 0.9047\n",
      "Epochs 15|...........Value Accuracy: 0.9059\n",
      "Epochs 16|...........Value Accuracy: 0.9061\n",
      "Epochs 17|...........Value Accuracy: 0.9072\n",
      "Epochs 18|...........Value Accuracy: 0.9086\n",
      "Epochs 19|...........Value Accuracy: 0.9088\n"
     ]
    }
   ],
   "source": [
    "history=network.train(x_train,y_train,x_test,y_test,epochs,step_per_epochs,batch_size,learning_rate)"
   ]
  },
  {
   "cell_type": "code",
   "execution_count": 21,
   "id": "bcdd1619-d3d8-4f09-b0b6-e1783bbbdfb9",
   "metadata": {},
   "outputs": [
    {
     "data": {
      "image/png": "[encoded data removed]",
      "text/plain": [
       "<Figure size 864x288 with 2 Axes>"
      ]
     },
     "metadata": {
      "needs_background": "light"
     },
     "output_type": "display_data"
    }
   ],
   "source": [
    "#Results for Val_loss,Train_loss,Val_acc \n",
    "\n",
    "plot_results(history).show()"
   ]
  },
  {
   "cell_type": "code",
   "execution_count": 22,
   "id": "d3938454-c387-487c-870b-76bd65d55192",
   "metadata": {},
   "outputs": [],
   "source": [
    "preds=network.predict(x_test)"
   ]
  },
  {
   "cell_type": "code",
   "execution_count": 23,
   "id": "9fc04b4f-cb65-45fe-ada1-914c3a181d95",
   "metadata": {},
   "outputs": [
    {
     "data": {
      "image/png": "[encoded data removed]",
      "text/plain": [
       "<Figure size 720x288 with 10 Axes>"
      ]
     },
     "metadata": {},
     "output_type": "display_data"
    }
   ],
   "source": [
    "#Model Predicted Sample\n",
    "plot_random_sample(x_test,y_test,preds.numpy()).show()"
   ]
  },
  {
   "cell_type": "markdown",
   "id": "e43dfa8e-73f2-4c4b-803a-132812e78d3b",
   "metadata": {},
   "source": [
    "Thanks for reading!Please feel free to provide suggestions or feedbacks."
   ]
  }
 ],
 "metadata": {
  "kernelspec": {
   "display_name": "Python 3 (ipykernel)",
   "language": "python",
   "name": "python3"
  },
  "language_info": {
   "codemirror_mode": {
    "name": "ipython",
    "version": 3
   },
   "file_extension": ".py",
   "mimetype": "text/x-python",
   "name": "python",
   "nbconvert_exporter": "python",
   "pygments_lexer": "ipython3",
   "version": "3.9.12"
  }
 },
 "nbformat": 4,
 "nbformat_minor": 5
}
